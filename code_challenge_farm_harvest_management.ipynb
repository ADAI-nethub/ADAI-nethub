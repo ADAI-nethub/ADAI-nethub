{
  "nbformat": 4,
  "nbformat_minor": 0,
  "metadata": {
    "colab": {
      "provenance": [],
      "authorship_tag": "ABX9TyPT9hOjsnz27kLZ5n2niaTD",
      "include_colab_link": true
    },
    "kernelspec": {
      "name": "python3",
      "display_name": "Python 3"
    },
    "language_info": {
      "name": "python"
    }
  },
  "cells": [
    {
      "cell_type": "markdown",
      "metadata": {
        "id": "view-in-github",
        "colab_type": "text"
      },
      "source": [
        "<a href=\"https://colab.research.google.com/github/ADAI-nethub/ADAI-nethub/blob/main/code_challenge_farm_harvest_management.ipynb\" target=\"_parent\"><img src=\"https://colab.research.google.com/assets/colab-badge.svg\" alt=\"Open In Colab\"/></a>"
      ]
    },
    {
      "cell_type": "code",
      "execution_count": null,
      "metadata": {
        "colab": {
          "base_uri": "https://localhost:8080/"
        },
        "id": "gFylXe5ZhUqX",
        "outputId": "eae6e8c5-c9be-44a2-c6c6-8799ff421704"
      },
      "outputs": [
        {
          "output_type": "stream",
          "name": "stdout",
          "text": [
            "Total harvest: 1200 kg\n"
          ]
        }
      ],
      "source": [
        "# Define the harvest from each field in kilograms\n",
        "wheat_harvest = 500\n",
        "potato_harvest = 700\n",
        "\n",
        "# Calculate the total harvest\n",
        "total_harvest = wheat_harvest + potato_harvest\n",
        "\n",
        "# Print the total harvest\n",
        "print(f\"Total harvest: {total_harvest} kg\")"
      ]
    },
    {
      "cell_type": "code",
      "source": [
        "total_kgs_wheat_harvest = 2050\n",
        "total_kgs_potato_harvest = 3600\n",
        "\n",
        "total_kgs_harvest = total_kgs_wheat_harvest+total_kgs_potato_harvest\n",
        "print(\"Total harvest in kilograms:\", total_kgs_harvest)\n"
      ],
      "metadata": {
        "colab": {
          "base_uri": "https://localhost:8080/"
        },
        "id": "fajj2Lz-nsxN",
        "outputId": "af2ce243-8888-4701-c180-c52a4bbf2d04"
      },
      "execution_count": null,
      "outputs": [
        {
          "output_type": "stream",
          "name": "stdout",
          "text": [
            "Total harvest in kilograms: 5650\n"
          ]
        }
      ]
    },
    {
      "cell_type": "code",
      "source": [
        "seed_expense = 650\n",
        "labour_expense = 3070\n",
        "\n",
        "total_expenses_dollars = seed_expense+labour_expense\n",
        "print(\"Total_expenses_dollars:\", total_expenses_dollars) # add your code here"
      ],
      "metadata": {
        "colab": {
          "base_uri": "https://localhost:8080/"
        },
        "id": "GATbipdwoWBV",
        "outputId": "5ed3ca1b-6fc5-4377-f55e-d08185ae6cc7"
      },
      "execution_count": null,
      "outputs": [
        {
          "output_type": "stream",
          "name": "stdout",
          "text": [
            "Total_expenses_dollars: 3720\n"
          ]
        }
      ]
    },
    {
      "cell_type": "code",
      "source": [
        "price_per_kg_wheat = 2\n",
        "price_per_kg_potato = 1.4\n",
        "\n",
        "total_revenue_dollars = (total_kgs_wheat_harvest * price_per_kg_wheat) + (total_kgs_potato_harvest * price_per_kg_potato)\n",
        "print(\"Total revenue in dollars:\", total_revenue_dollars)\n",
        "\n"
      ],
      "metadata": {
        "colab": {
          "base_uri": "https://localhost:8080/"
        },
        "id": "wjZufvBnp7i2",
        "outputId": "9c04fd52-1084-4f67-8c4a-b20e05bd65f7"
      },
      "execution_count": null,
      "outputs": [
        {
          "output_type": "stream",
          "name": "stdout",
          "text": [
            "Total revenue in dollars: 9140.0\n"
          ]
        }
      ]
    },
    {
      "cell_type": "code",
      "source": [
        "total_profit_dollars = total_revenue_dollars - total_expenses_dollars\n",
        "print(\"Total profit in dollars:\", total_profit_dollars)"
      ],
      "metadata": {
        "colab": {
          "base_uri": "https://localhost:8080/"
        },
        "id": "JpQknizXv151",
        "outputId": "ae9aa403-0f1f-4e55-bb60-364898a0db64"
      },
      "execution_count": null,
      "outputs": [
        {
          "output_type": "stream",
          "name": "stdout",
          "text": [
            "Total profit in dollars: 5420.0\n"
          ]
        }
      ]
    },
    {
      "cell_type": "code",
      "source": [],
      "metadata": {
        "id": "m0hD7gX7sDJP"
      },
      "execution_count": null,
      "outputs": []
    }
  ]
}